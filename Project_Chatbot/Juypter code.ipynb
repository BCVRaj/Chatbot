{
 "cells": [
  {
   "cell_type": "code",
   "execution_count": 36,
   "metadata": {},
   "outputs": [],
   "source": [
    "from langchain_openai import ChatOpenAI\n",
    "from langchain_ollama.llms import OllamaLLM\n",
    "from langchain_core.prompts import ChatPromptTemplate\n",
    "from langchain_core.output_parsers import StrOutputParser\n",
    "import streamlit as st\n",
    "import os\n",
    "import getpass\n",
    "import pdfplumber"
   ]
  },
  {
   "cell_type": "code",
   "execution_count": 37,
   "metadata": {},
   "outputs": [
    {
     "data": {
      "text/plain": [
       "True"
      ]
     },
     "execution_count": 37,
     "metadata": {},
     "output_type": "execute_result"
    }
   ],
   "source": [
    "from dotenv import load_dotenv\n",
    "load_dotenv()"
   ]
  },
  {
   "cell_type": "code",
   "execution_count": 38,
   "metadata": {},
   "outputs": [],
   "source": [
    "os.environ[\"GOOGLE_API_KEY\"] = os.getenv(\"GOOGLE_API_KEY\")\n",
    "os.environ[\"GOOGLE_API_KEY\"] = \"true\""
   ]
  },
  {
   "cell_type": "code",
   "execution_count": 40,
   "metadata": {},
   "outputs": [
    {
     "name": "stderr",
     "output_type": "stream",
     "text": [
      "2025-01-06 20:11:27.538 Thread 'MainThread': missing ScriptRunContext! This warning can be ignored when running in bare mode.\n",
      "2025-01-06 20:11:27.543 Thread 'MainThread': missing ScriptRunContext! This warning can be ignored when running in bare mode.\n",
      "2025-01-06 20:11:27.543 Thread 'MainThread': missing ScriptRunContext! This warning can be ignored when running in bare mode.\n",
      "2025-01-06 20:11:27.543 Thread 'MainThread': missing ScriptRunContext! This warning can be ignored when running in bare mode.\n",
      "2025-01-06 20:11:27.543 Thread 'MainThread': missing ScriptRunContext! This warning can be ignored when running in bare mode.\n",
      "2025-01-06 20:11:27.545 Thread 'MainThread': missing ScriptRunContext! This warning can be ignored when running in bare mode.\n",
      "2025-01-06 20:11:27.545 Thread 'MainThread': missing ScriptRunContext! This warning can be ignored when running in bare mode.\n"
     ]
    }
   ],
   "source": [
    "prompt=ChatPromptTemplate.from_messages(\n",
    "    [\n",
    "        (\"system\",\"You are a helpful assistant. Please response to the user queries by the pdf provided by the user\"),\n",
    "        (\"user\",\"Question:{question}\")\n",
    "    ]\n",
    ")\n",
    "\n",
    "st.title('Langchain apashm kirikiri API')\n",
    "input_text=st.text_input(\"Search the topic u want\")"
   ]
  },
  {
   "cell_type": "code",
   "execution_count": 41,
   "metadata": {},
   "outputs": [],
   "source": [
    "# openAI LLm \n",
    "model = OllamaLLM(model=\"llama3.1\")\n",
    "output_parser=StrOutputParser()\n",
    "chain=prompt|model|output_parser\n",
    "\n",
    "if input_text:\n",
    "    st.write(chain.invoke({'question':input_text}))"
   ]
  },
  {
   "cell_type": "code",
   "execution_count": 42,
   "metadata": {},
   "outputs": [],
   "source": [
    "# Documents loder\n",
    "\n",
    "from langchain_community.document_loaders import WebBaseLoader\n",
    "import bs4\n",
    "loader=WebBaseLoader(web_paths=(\"https://www.placementpreparation.io/blog/best-websites-to-learn-ai-and-machine-learning/\",),\n",
    "                     bs_kwargs=dict(parse_only=bs4.SoupStrainer(\n",
    "                        class_=(\"su-note\",\"col-md-7 col-lg-7 blog-detail-left\",\"tablepress tablepress-id-222\") \n",
    "                        \n",
    "                     )),)\n",
    "\n",
    "text_documents=loader.load()"
   ]
  },
  {
   "cell_type": "code",
   "execution_count": 43,
   "metadata": {},
   "outputs": [],
   "source": [
    "from langchain.text_splitter import RecursiveCharacterTextSplitter\n",
    "text_splitter=RecursiveCharacterTextSplitter(chunk_size=1000,chunk_overlap=200)\n",
    "documents=text_splitter.split_documents(text_documents)\n"
   ]
  },
  {
   "cell_type": "code",
   "execution_count": 44,
   "metadata": {},
   "outputs": [
    {
     "data": {
      "text/plain": [
       "[Document(metadata={'source': 'https://www.placementpreparation.io/blog/best-websites-to-learn-ai-and-machine-learning/'}, page_content='March 1, 2024\\n  Best Websites to Learn AI and Machine Learning \\n\\nInterested in how AI and machine learning are changing the world and want to get in on the action without spending a rupee?\\nDive into the best websites to learn AI and Machine Learning for free, where you can start unlocking the mysteries of these amazing technologies without any cost.\\n10 Best Websites for AI and Machine Learning – Overview\\nHere’s an overview of the top 10 websites to learn AI and Machine Learning:\\n\\n\\n\\nS.No.Website NameCourse DurationPricingCertificationWebsite Link\\n\\n\\n\\n\\n1GUVI5 monthsPaidYesVisit Now\\n\\n\\n2Coursera8 hoursFreemiumYesVisit Now\\n\\n\\n3edX7 weeksFreemiumYesVisit Now\\n\\n\\n4Udacity3 monthsPaidYesVisit Now\\n\\n\\n5Fast.ai12 weeksFreeNoVisit Now\\n\\n\\n6Kaggle Learn3 hoursFreeYesVisit Now\\n\\n\\n7Google AISelf-pacedFreemiumYesVisit Now\\n\\n\\n8Stanford University OnlineSelf-pacedFreemiumYesVisit Now\\n\\n\\n9MIT OpenCoursewareVariedFreeNoVisit Now\\n\\n\\n10DeepLearning.AI6 hoursPaidYesVisit Now'),\n",
       " Document(metadata={'source': 'https://www.placementpreparation.io/blog/best-websites-to-learn-ai-and-machine-learning/'}, page_content='7Google AISelf-pacedFreemiumYesVisit Now\\n\\n\\n8Stanford University OnlineSelf-pacedFreemiumYesVisit Now\\n\\n\\n9MIT OpenCoursewareVariedFreeNoVisit Now\\n\\n\\n10DeepLearning.AI6 hoursPaidYesVisit Now\\n\\n\\n\\n\\n\\nBest Websites to Learn AI and Machine Learning for Beginners\\nBelow is the list of best websites to learn AI and Machine Learning for beginners:\\n1. GUVI\\nThe “Artificial Intelligence & Machine Learning” course offered by GUVI, in collaboration with IIT-M Pravartak, is a comprehensive program designed to master AI and ML skills within 5 months.\\nThe course covers the latest developments in cloud technologies, deep learning, NLP, and machine learning model building and deployment, along with the fundamentals of AI. The curriculum includes live online classes, lifetime access to recorded videos, hands-on workshops, and hackathons.\\nIt’s available in English and Tamil, and upon completion, participants receive a globally recognized certification from GUVI and IIT-M Pravartak.'),\n",
       " Document(metadata={'source': 'https://www.placementpreparation.io/blog/best-websites-to-learn-ai-and-machine-learning/'}, page_content='Course Diversity: Covers AI, ML, cloud technologies, deep learning, NLP, and more.\\nLearning Style: Live online classes, hands-on workshops, and hackathons.\\nPricing Structure: Course fee INR ₹89,999 with EMI options available.\\nPlatform Usability: Online live class learning program.\\nCertifications Offered: Globally recognized certification from GUVI and IIT-M Pravartak.\\nLanguage Options: Available in English and Tamil.\\nInstructor Expertise: Taught by IIT professors and industry experts.\\nDuration of Courses: 5 months (weekend program).\\nCommunity and Support: Technical support and 100% job placement assistance.\\nLearn Now'),\n",
       " Document(metadata={'source': 'https://www.placementpreparation.io/blog/best-websites-to-learn-ai-and-machine-learning/'}, page_content='2. Coursera\\nThe “Introduction to Artificial Intelligence (AI)” course on Coursera, offered by IBM, is designed to provide learners with a comprehensive understanding of AI, its applications, use cases, and how it is transforming our lives. The course is taught in English and is available with subtitles in 20 languages.\\nThe course aims to describe what AI is, explain terms like Machine Learning, Deep Learning, and Neural Networks, and address several issues and ethical concerns surrounding AI. It also provides advice from experts about learning and starting a career in AI.'),\n",
       " Document(metadata={'source': 'https://www.placementpreparation.io/blog/best-websites-to-learn-ai-and-machine-learning/'}, page_content='Course Diversity: Covers AI fundamentals, machine learning, deep learning, and neural networks.\\nLearning Style: Structured learning with quizzes and practical insights.\\nPricing Structure: Accessible through Coursera subscription, financial aid available.\\nPlatform Usability: User-friendly platform with courses structured for easy navigation and progress tracking.\\nCertifications Offered: Shareable certificate upon completion.\\nLanguage Options: Content available in English with subtitles in 20 languages.\\nInstructor Expertise: Taught by Rav Ahuja, an experienced instructor from IBM.\\nDuration of Courses: Approximately 8 hours, self-paced learning.\\nCommunity and Support: Access to Coursera’s community of learners and developers.\\nLearn Now'),\n",
       " Document(metadata={'source': 'https://www.placementpreparation.io/blog/best-websites-to-learn-ai-and-machine-learning/'}, page_content='3. edX\\nHarvard University’s “CS50’s Introduction to Artificial Intelligence with Python” on edX is an introductory course that delves into the concepts and algorithms foundational to modern artificial intelligence.\\nThis course covers a range of AI topics, including graph search algorithms, classification, optimization, machine learning, large language models, and more.\\nStudents will learn to incorporate these concepts into Python programs and gain experience with libraries for machine learning. The course is designed for learners with CS50 or prior programming experience in Python and is part of the Professional Certificate in Computer Science for Artificial Intelligence.\\nIt’s a self-paced course, estimated to take 7 weeks at 10–30 hours per week.'),\n",
       " Document(metadata={'source': 'https://www.placementpreparation.io/blog/best-websites-to-learn-ai-and-machine-learning/'}, page_content='Course Diversity: Covers a range of AI topics, including machine learning and graph search algorithms.\\nLearning Style: Hands-on projects with theoretical and practical applications.\\nPricing Structure: Free to enroll with an optional upgrade available.\\nPlatform Usability: User-friendly interface with easy navigation.\\nCertifications Offered: Part of the Professional Certificate in Computer Science for AI.\\nLanguage Options: Available in English with video transcripts in multiple languages.\\nInstructor Expertise: Taught by Harvard University faculty.\\nDuration of Courses: 7 weeks, 10–30 hours per week.\\nCommunity and Support: Access to edX’s community and support resources.\\nLearn Now'),\n",
       " Document(metadata={'source': 'https://www.placementpreparation.io/blog/best-websites-to-learn-ai-and-machine-learning/'}, page_content='4. Udacity\\nThe “AI Artificial Intelligence Nanodegree” program on Udacity is a comprehensive course designed to provide in-depth knowledge and hands-on experience in artificial intelligence.\\nThis program, taught by industry experts like Sebastian Thrun, Thad Starner, and Peter Norvig, covers a wide range of AI topics, including optimization algorithms, likelihood functions, minimax search, Bayesian networks, and more.\\nThe course is structured to offer real-world projects and practical applications of foundational AI concepts. It is suitable for advanced learners who have a background in object-oriented Python and intermediate Python programming.'),\n",
       " Document(metadata={'source': 'https://www.placementpreparation.io/blog/best-websites-to-learn-ai-and-machine-learning/'}, page_content='Course Diversity: Covers optimization algorithms, Bayesian networks, minimax search, and other AI concepts.\\nLearning Style: Hands-on learning with real-world projects and practical applications.\\nPricing Structure: Paid program with a month-to-month subscription model.\\nPlatform Usability: User-friendly platform with structured learning paths.\\nCertifications Offered: Completion certificate provided.\\nLanguage Options: Content available in English, with subtitles in multiple languages.\\nInstructor Expertise: Courses taught by industry experts like Sebastian Thrun, Thad Starner, and Peter Norvig.\\nDuration of Courses: Approximately 3 months to complete.\\nCommunity and Support: Access to Udacity’s community and mentorship for learner success.\\nLearn Now'),\n",
       " Document(metadata={'source': 'https://www.placementpreparation.io/blog/best-websites-to-learn-ai-and-machine-learning/'}, page_content='5. Fast.ai\\nThe “Introduction to Machine Learning for Coders” course on Fast.ai, taught by Jeremy Howard, is a comprehensive and free online program designed for individuals with at least one year of coding experience. The course, which spans approximately 24 hours of lessons, is structured to be completed over 12 weeks with an estimated 8 hours of study per week.\\nIt covers essential machine learning models and includes practical exercises for creating them from scratch. Key skills in data preparation, model validation, and building data products are also addressed. The course is based on lessons recorded at the University of San Francisco for their Masters of Science in Data Science program. It assumes a basic understanding of high school math.'),\n",
       " Document(metadata={'source': 'https://www.placementpreparation.io/blog/best-websites-to-learn-ai-and-machine-learning/'}, page_content='Course Diversity: Covers machine learning models, data preparation, model validation, and data products.\\nLearning Style: Video-based lessons with practical exercises.\\nPricing Structure: Free access to all course materials.\\nPlatform Usability: Online format accessible for self-paced learning.\\nCertifications Offered: Does not specify certifications.\\nLanguage Options: Content available in English.\\nInstructor Expertise: Taught by Jeremy Howard, an experienced educator and Kaggle’s #1 competitor.\\nDuration of Courses: Approximately 24 hours of lessons over 12 weeks.\\nCommunity and Support: Forums for questions and discussion.\\nLearn Now'),\n",
       " Document(metadata={'source': 'https://www.placementpreparation.io/blog/best-websites-to-learn-ai-and-machine-learning/'}, page_content='6. Kaggle Learn\\nKaggle’s “Intro to Machine Learning” course is a beginner-friendly program designed to teach the core concepts of machine learning and guide learners in building their first models.\\nThe course is structured into seven lessons, each focusing on a key aspect of machine learning. These lessons include “How Models Work,” “Basic Data Exploration,” “Your First Machine Learning Model,” “Model Validation,” “Underfitting and Overfitting,” “Random Forests,” and “Machine Learning Competitions.”\\nIt builds on Python and prepares learners for more advanced topics like Machine Learning Explainability and Intermediate Machine Learning.'),\n",
       " Document(metadata={'source': 'https://www.placementpreparation.io/blog/best-websites-to-learn-ai-and-machine-learning/'}, page_content='Course Diversity: Covers fundamental machine learning concepts and model building.\\nLearning Style: Interactive tutorials and exercises.\\nPricing Structure: Free access to all course materials.\\nPlatform Usability: User-friendly and ideal for beginners.\\nCertifications Offered: They offer certification after completion.\\nLanguage Options: Content available in English.\\nInstructor Expertise: Taught by Dan Becker, an experienced instructor.\\nDuration of Courses: Approximately 3 hours (estimated).\\nCommunity and Support: Access to Kaggle’s community and discussions.\\nLearn Now'),\n",
       " Document(metadata={'source': 'https://www.placementpreparation.io/blog/best-websites-to-learn-ai-and-machine-learning/'}, page_content='7. Google AI\\nThe “Machine Learning & AI Courses” offered by Google Cloud Training provide a comprehensive learning experience for those interested in mastering machine learning and artificial intelligence technologies.\\nThese courses are designed to help learners implement the latest machine learning and AI technology, covering a range of tools and platforms like Vertex AI, BigQuery, TensorFlow, Cloud Vision, and Natural Language API. The training is suitable for various job roles, including Data Scientists, Machine Learning Engineers, and Contact Center Engineers.\\nThe courses cover foundational data, ML, and AI tasks in Google Cloud, machine learning on Google Cloud, advanced machine learning with TensorFlow, MLOps fundamentals, ML pipelines, and more.'),\n",
       " Document(metadata={'source': 'https://www.placementpreparation.io/blog/best-websites-to-learn-ai-and-machine-learning/'}, page_content='Course Diversity: Covers a wide range of ML and AI topics, including TensorFlow, Vertex AI, and BigQuery.\\nLearning Style: Interactive labs and hands-on learning experiences.\\nPricing Structure: Varies depending on the course or learning path chosen.\\nPlatform Usability: User-friendly and designed for professionals and learners at various levels.\\nCertifications Offered: Opportunities for professional certification in machine learning and AI.\\nLanguage Options: Courses primarily in English, with some offering multiple language options.\\nInstructor Expertise: Courses taught by Google experts and industry professionals.\\nDuration of Courses: Varies based on the course, with flexible learning options.\\nCommunity and Support: Access to a community of learners and Google Cloud support.\\nLearn Now'),\n",
       " Document(metadata={'source': 'https://www.placementpreparation.io/blog/best-websites-to-learn-ai-and-machine-learning/'}, page_content='8. Stanford University Online\\nThe “Machine Learning Specialization” course offered by Stanford Online on edX is a foundational program created in collaboration with DeepLearning.AI.\\nThe specialization provides a broad introduction to modern machine learning, including supervised learning (multiple linear regression, logistic regression, neural networks, decision trees), unsupervised learning (clustering, dimensionality reduction, recommender systems), and best practices for AI and machine learning innovation (evaluating and tuning models, data-centric performance improvement).'),\n",
       " Document(metadata={'source': 'https://www.placementpreparation.io/blog/best-websites-to-learn-ai-and-machine-learning/'}, page_content='Course Diversity: Covers supervised and unsupervised learning, machine learning models, and AI best practices.\\nLearning Style: Online, self-paced learning with a focus on practical application.\\nPricing Structure: Free to view course materials, with a fee for certification.\\nPlatform Usability: User-friendly online platform with easy access to course modules.\\nCertifications Offered: Certificate available upon completion.\\nLanguage Options: Content available in English.\\nInstructor Expertise: Courses developed by Stanford University and DeepLearning.AI.\\nDuration of Courses: Self-paced learning experience.\\nCommunity and Support: Access to course forums and support resources.\\nLearn Now'),\n",
       " Document(metadata={'source': 'https://www.placementpreparation.io/blog/best-websites-to-learn-ai-and-machine-learning/'}, page_content='9. MIT OpenCourseWare\\nThe “Mathematics of Big Data and Machine Learning” course, offered by MIT OpenCourseWare, provides an in-depth exploration of artificial intelligence and machine learning.\\nTaught by Dr. Jeremy Kepner and Dr. Vijay Gadepally, this course was conducted during the January IAP 2020 and is categorized under Supplemental Resources at the undergraduate level.\\nThe course content includes a comprehensive overview of AI and a deep dive into machine learning, encompassing supervised learning, unsupervised learning, and reinforcement learning. This lecture series is designed to offer insights into the mathematical foundations and practical applications of big data and machine learning.'),\n",
       " Document(metadata={'source': 'https://www.placementpreparation.io/blog/best-websites-to-learn-ai-and-machine-learning/'}, page_content='Course Diversity: Covers AI, supervised learning, unsupervised learning, and reinforcement learning.\\nLearning Style: Lecture-based with in-depth theoretical and practical insights.\\nPricing Structure: Free access to course materials.\\nPlatform Usability: Well-organized content for easy learning.\\nCertifications Offered: Does not offer certifications.\\nLanguage Options: Content available in English.\\nInstructor Expertise: Taught by Dr. Jeremy Kepner and Dr. Vijay Gadepally.\\nDuration of Courses: Conducted during January IAP 2020.\\nCommunity and Support: Does not specify community or support options.\\nLearn Now'),\n",
       " Document(metadata={'source': 'https://www.placementpreparation.io/blog/best-websites-to-learn-ai-and-machine-learning/'}, page_content='10. DeepLearning.AI\\n“AI for Everyone” by DeepLearning.AI is a non-technical course aimed at providing a broad understanding of artificial intelligence (AI) to a wide audience, including non-engineers.\\nThe course, taught by AI pioneer Andrew Ng, focuses on demystifying AI and explaining key concepts such as machine learning, deep learning, and neural networks. It also addresses the impact of AI on society and navigates through technological changes.\\nThe course covers the workflow of machine learning and data science projects, AI terminology, and AI strategy. It includes case studies and practical advice for building a sustainable AI strategy, making it suitable for non-technical business professionals, machine learning engineers, and data scientists.'),\n",
       " Document(metadata={'source': 'https://www.placementpreparation.io/blog/best-websites-to-learn-ai-and-machine-learning/'}, page_content='Course Diversity: Covers AI basics, machine learning, deep learning, and AI strategy.\\nLearning Style: Non-technical, with a focus on understanding AI’s impact and applications.\\nPricing Structure: Accessible through a subscription or individual course purchase.\\nPlatform Usability: User-friendly online learning platform.\\nCertifications Offered: Certificate of completion available.\\nLanguage Options: Content available in English.\\nInstructor Expertise: Taught by Andrew Ng, a renowned expert in AI.\\nDuration of Courses: Approximately 6 hours of content.\\nCommunity and Support: Access to a community of learners and professionals.\\nLearn Now\\n\\nFrequently Asked Questions\\n1. What are the best websites for learning AI and Machine learning?\\nThe best websites for learning AI and Machine learning are:\\n\\nGUVI\\nCoursera\\nedX\\nUdacity\\nFast.ai\\nKaggle Learn\\nGoogle AI'),\n",
       " Document(metadata={'source': 'https://www.placementpreparation.io/blog/best-websites-to-learn-ai-and-machine-learning/'}, page_content='2. What are some free AI and Machine learning learning websites along with certifications?\\nedX, Fast.ai, Kaggle Learn, Stanford University Online, and MIT OpenCourseWare are some free AI and Machine learning learning websites along with certifications.\\n3. Why should I choose website for learning AI and Machine Learning?\\nYou should choose a website for learning AI and Machine Learning because they offer flexibility and have a variety of learning resources. They cater to different learning styles with interactive tutorials, video lectures, and hands-on exercises.\\n4. How do I choose the right website for learning AI and Machine Learning?\\nYou can choose the right website for learning AI and Machine Learning by considering factors like course content quality, learning style compatibility (videos, interactive exercises), instructor expertise, community support, and pricing.\\n5. Can a beginner learn AI and Machine Learning effectively through websites?'),\n",
       " Document(metadata={'source': 'https://www.placementpreparation.io/blog/best-websites-to-learn-ai-and-machine-learning/'}, page_content='5. Can a beginner learn AI and Machine Learning effectively through websites?\\nYes, beginners can effectively learn AI and Machine Learning through websites. Many platforms offer beginner-friendly courses that start with basics and gradually progress to more complex topics.\\n6. Are there websites that offer content in multiple languages for learning AI and Machine Learning?\\nYes, websites like GUVI, Coursera, edX, and Udacity provide AI and Machine Learning learning content in multiple languages and subtitles.\\nFinal Words\\nThese sites are like your friendly neighborhood tech gurus, making learning AI and machine learning fun. They’re perfect for getting a solid start in these exciting fields without having to spend almost nothing.\\nKeep checking this article as we will keep updating this space as more websites make space in the heart and study schedule of students preparing for placements and competitive exams.'),\n",
       " Document(metadata={'source': 'https://www.placementpreparation.io/blog/best-websites-to-learn-ai-and-machine-learning/'}, page_content='Explore More AI & ML Resources\\n\\nAI and Machine Learning YouTube Channels\\nAI Project Ideas\\nMachine Learning Project Ideas\\nAI Programming Languages\\nMachine Learning Programming Languages\\nMachine Learning Frameworks\\n\\nExplore More Websites\\n\\nPython\\nJava\\nCoding\\nC++\\nC Programming\\nSQL\\nJavaScript\\nData Science\\nHTML & CSS\\nWeb Development\\nData Structures and Algorithms\\nEthical Hacking\\nAndroid Development\\nReact JS\\nGame Development\\nCompetitive Programming\\nDigital Marketing\\nTableau\\nDBMS\\nR Programming\\nPHP\\nCyber Security\\nExcel\\nNode JS\\nData Analytics\\nBootstrap\\nCloud Computing\\nOperating System\\nAngular\\nRPA')]"
      ]
     },
     "execution_count": 44,
     "metadata": {},
     "output_type": "execute_result"
    }
   ],
   "source": [
    "documents"
   ]
  },
  {
   "cell_type": "code",
   "execution_count": 56,
   "metadata": {},
   "outputs": [],
   "source": [
    "from langchain_ollama import OllamaEmbeddings\n",
    "\n",
    "embeddings = OllamaEmbeddings(\n",
    "    model=\"llama3.1\",\n",
    ")"
   ]
  },
  {
   "cell_type": "code",
   "execution_count": 55,
   "metadata": {},
   "outputs": [
    {
     "ename": "AttributeError",
     "evalue": "from_texts",
     "output_type": "error",
     "traceback": [
      "\u001b[1;31m---------------------------------------------------------------------------\u001b[0m",
      "\u001b[1;31mAttributeError\u001b[0m                            Traceback (most recent call last)",
      "Cell \u001b[1;32mIn[55], line 8\u001b[0m\n\u001b[0;32m      5\u001b[0m \u001b[38;5;28;01mfor\u001b[39;00m document \u001b[38;5;129;01min\u001b[39;00m documents:\n\u001b[0;32m      6\u001b[0m   texts\u001b[38;5;241m.\u001b[39mappend(document\u001b[38;5;241m.\u001b[39mpage_content)\n\u001b[1;32m----> 8\u001b[0m vectorstore \u001b[38;5;241m=\u001b[39m \u001b[43mOllamaEmbeddings\u001b[49m\u001b[38;5;241;43m.\u001b[39;49m\u001b[43mfrom_texts\u001b[49m(\n\u001b[0;32m      9\u001b[0m     texts\u001b[38;5;241m=\u001b[39mtexts,\n\u001b[0;32m     10\u001b[0m     embeddings \u001b[38;5;241m=\u001b[39m OllamaEmbeddings(\n\u001b[0;32m     11\u001b[0m     model\u001b[38;5;241m=\u001b[39m\u001b[38;5;124m\"\u001b[39m\u001b[38;5;124mllama3\u001b[39m\u001b[38;5;124m\"\u001b[39m,\n\u001b[0;32m     12\u001b[0m )\n\u001b[0;32m     13\u001b[0m )\n",
      "File \u001b[1;32mc:\\Users\\chand\\Desktop\\Data Analytics\\.conda\\Lib\\site-packages\\pydantic\\_internal\\_model_construction.py:262\u001b[0m, in \u001b[0;36mModelMetaclass.__getattr__\u001b[1;34m(self, item)\u001b[0m\n\u001b[0;32m    260\u001b[0m \u001b[38;5;28;01mif\u001b[39;00m private_attributes \u001b[38;5;129;01mand\u001b[39;00m item \u001b[38;5;129;01min\u001b[39;00m private_attributes:\n\u001b[0;32m    261\u001b[0m     \u001b[38;5;28;01mreturn\u001b[39;00m private_attributes[item]\n\u001b[1;32m--> 262\u001b[0m \u001b[38;5;28;01mraise\u001b[39;00m \u001b[38;5;167;01mAttributeError\u001b[39;00m(item)\n",
      "\u001b[1;31mAttributeError\u001b[0m: from_texts"
     ]
    }
   ],
   "source": [
    "# Create a vector store with a sample text\n",
    "from langchain_community.embeddings import OllamaEmbeddings\n",
    "\n",
    "texts = []\n",
    "for document in documents:\n",
    "  texts.append(document.page_content)\n",
    "\n",
    "vectorstore = OllamaEmbeddings.from_texts(\n",
    "    texts=texts,\n",
    "    embeddings = OllamaEmbeddings(\n",
    "    model=\"llama3\",\n",
    ")\n",
    ")"
   ]
  },
  {
   "cell_type": "code",
   "execution_count": 11,
   "metadata": {},
   "outputs": [
    {
     "data": {
      "text/plain": [
       "['March 1, 2024\\n  Best Websites to Learn AI and Machine Learning \\n\\nInterested in how AI and machine learning are changing the world and want to get in on the action without spending a rupee?\\nDive into the best websites to learn AI and Machine Learning for free, where you can start unlocking the mysteries of these amazing technologies without any cost.\\n10 Best Websites for AI and Machine Learning – Overview\\nHere’s an overview of the top 10 websites to learn AI and Machine Learning:\\n\\n\\n\\nS.No.Website NameCourse DurationPricingCertificationWebsite Link\\n\\n\\n\\n\\n1GUVI5 monthsPaidYesVisit Now\\n\\n\\n2Coursera8 hoursFreemiumYesVisit Now\\n\\n\\n3edX7 weeksFreemiumYesVisit Now\\n\\n\\n4Udacity3 monthsPaidYesVisit Now\\n\\n\\n5Fast.ai12 weeksFreeNoVisit Now\\n\\n\\n6Kaggle Learn3 hoursFreeYesVisit Now\\n\\n\\n7Google AISelf-pacedFreemiumYesVisit Now\\n\\n\\n8Stanford University OnlineSelf-pacedFreemiumYesVisit Now\\n\\n\\n9MIT OpenCoursewareVariedFreeNoVisit Now\\n\\n\\n10DeepLearning.AI6 hoursPaidYesVisit Now',\n",
       " '7Google AISelf-pacedFreemiumYesVisit Now\\n\\n\\n8Stanford University OnlineSelf-pacedFreemiumYesVisit Now\\n\\n\\n9MIT OpenCoursewareVariedFreeNoVisit Now\\n\\n\\n10DeepLearning.AI6 hoursPaidYesVisit Now\\n\\n\\n\\n\\nBest Websites to Learn AI and Machine Learning for Beginners\\nBelow is the list of best websites to learn AI and Machine Learning for beginners:\\n1. GUVI\\nThe “Artificial Intelligence & Machine Learning” course offered by GUVI, in collaboration with IIT-M Pravartak, is a comprehensive program designed to master AI and ML skills within 5 months.\\nThe course covers the latest developments in cloud technologies, deep learning, NLP, and machine learning model building and deployment, along with the fundamentals of AI. The curriculum includes live online classes, lifetime access to recorded videos, hands-on workshops, and hackathons.\\nIt’s available in English and Tamil, and upon completion, participants receive a globally recognized certification from GUVI and IIT-M Pravartak.',\n",
       " 'Course Diversity: Covers AI, ML, cloud technologies, deep learning, NLP, and more.\\nLearning Style: Live online classes, hands-on workshops, and hackathons.\\nPricing Structure: Course fee INR ₹89,999 with EMI options available.\\nPlatform Usability: Online live class learning program.\\nCertifications Offered: Globally recognized certification from GUVI and IIT-M Pravartak.\\nLanguage Options: Available in English and Tamil.\\nInstructor Expertise: Taught by IIT professors and industry experts.\\nDuration of Courses: 5 months (weekend program).\\nCommunity and Support: Technical support and 100% job placement assistance.\\nLearn Now',\n",
       " '2. Coursera\\nThe “Introduction to Artificial Intelligence (AI)” course on Coursera, offered by IBM, is designed to provide learners with a comprehensive understanding of AI, its applications, use cases, and how it is transforming our lives. The course is taught in English and is available with subtitles in 20 languages.\\nThe course aims to describe what AI is, explain terms like Machine Learning, Deep Learning, and Neural Networks, and address several issues and ethical concerns surrounding AI. It also provides advice from experts about learning and starting a career in AI.',\n",
       " 'Course Diversity: Covers AI fundamentals, machine learning, deep learning, and neural networks.\\nLearning Style: Structured learning with quizzes and practical insights.\\nPricing Structure: Accessible through Coursera subscription, financial aid available.\\nPlatform Usability: User-friendly platform with courses structured for easy navigation and progress tracking.\\nCertifications Offered: Shareable certificate upon completion.\\nLanguage Options: Content available in English with subtitles in 20 languages.\\nInstructor Expertise: Taught by Rav Ahuja, an experienced instructor from IBM.\\nDuration of Courses: Approximately 8 hours, self-paced learning.\\nCommunity and Support: Access to Coursera’s community of learners and developers.\\nLearn Now',\n",
       " '3. edX\\nHarvard University’s “CS50’s Introduction to Artificial Intelligence with Python” on edX is an introductory course that delves into the concepts and algorithms foundational to modern artificial intelligence.\\nThis course covers a range of AI topics, including graph search algorithms, classification, optimization, machine learning, large language models, and more.\\nStudents will learn to incorporate these concepts into Python programs and gain experience with libraries for machine learning. The course is designed for learners with CS50 or prior programming experience in Python and is part of the Professional Certificate in Computer Science for Artificial Intelligence.\\nIt’s a self-paced course, estimated to take 7 weeks at 10–30 hours per week.',\n",
       " 'Course Diversity: Covers a range of AI topics, including machine learning and graph search algorithms.\\nLearning Style: Hands-on projects with theoretical and practical applications.\\nPricing Structure: Free to enroll with an optional upgrade available.\\nPlatform Usability: User-friendly interface with easy navigation.\\nCertifications Offered: Part of the Professional Certificate in Computer Science for AI.\\nLanguage Options: Available in English with video transcripts in multiple languages.\\nInstructor Expertise: Taught by Harvard University faculty.\\nDuration of Courses: 7 weeks, 10–30 hours per week.\\nCommunity and Support: Access to edX’s community and support resources.\\nLearn Now',\n",
       " '4. Udacity\\nThe “AI Artificial Intelligence Nanodegree” program on Udacity is a comprehensive course designed to provide in-depth knowledge and hands-on experience in artificial intelligence.\\nThis program, taught by industry experts like Sebastian Thrun, Thad Starner, and Peter Norvig, covers a wide range of AI topics, including optimization algorithms, likelihood functions, minimax search, Bayesian networks, and more.\\nThe course is structured to offer real-world projects and practical applications of foundational AI concepts. It is suitable for advanced learners who have a background in object-oriented Python and intermediate Python programming.',\n",
       " 'Course Diversity: Covers optimization algorithms, Bayesian networks, minimax search, and other AI concepts.\\nLearning Style: Hands-on learning with real-world projects and practical applications.\\nPricing Structure: Paid program with a month-to-month subscription model.\\nPlatform Usability: User-friendly platform with structured learning paths.\\nCertifications Offered: Completion certificate provided.\\nLanguage Options: Content available in English, with subtitles in multiple languages.\\nInstructor Expertise: Courses taught by industry experts like Sebastian Thrun, Thad Starner, and Peter Norvig.\\nDuration of Courses: Approximately 3 months to complete.\\nCommunity and Support: Access to Udacity’s community and mentorship for learner success.\\nLearn Now',\n",
       " '5. Fast.ai\\nThe “Introduction to Machine Learning for Coders” course on Fast.ai, taught by Jeremy Howard, is a comprehensive and free online program designed for individuals with at least one year of coding experience. The course, which spans approximately 24 hours of lessons, is structured to be completed over 12 weeks with an estimated 8 hours of study per week.\\nIt covers essential machine learning models and includes practical exercises for creating them from scratch. Key skills in data preparation, model validation, and building data products are also addressed. The course is based on lessons recorded at the University of San Francisco for their Masters of Science in Data Science program. It assumes a basic understanding of high school math.',\n",
       " 'Course Diversity: Covers machine learning models, data preparation, model validation, and data products.\\nLearning Style: Video-based lessons with practical exercises.\\nPricing Structure: Free access to all course materials.\\nPlatform Usability: Online format accessible for self-paced learning.\\nCertifications Offered: Does not specify certifications.\\nLanguage Options: Content available in English.\\nInstructor Expertise: Taught by Jeremy Howard, an experienced educator and Kaggle’s #1 competitor.\\nDuration of Courses: Approximately 24 hours of lessons over 12 weeks.\\nCommunity and Support: Forums for questions and discussion.\\nLearn Now',\n",
       " '6. Kaggle Learn\\nKaggle’s “Intro to Machine Learning” course is a beginner-friendly program designed to teach the core concepts of machine learning and guide learners in building their first models.\\nThe course is structured into seven lessons, each focusing on a key aspect of machine learning. These lessons include “How Models Work,” “Basic Data Exploration,” “Your First Machine Learning Model,” “Model Validation,” “Underfitting and Overfitting,” “Random Forests,” and “Machine Learning Competitions.”\\nIt builds on Python and prepares learners for more advanced topics like Machine Learning Explainability and Intermediate Machine Learning.',\n",
       " 'Course Diversity: Covers fundamental machine learning concepts and model building.\\nLearning Style: Interactive tutorials and exercises.\\nPricing Structure: Free access to all course materials.\\nPlatform Usability: User-friendly and ideal for beginners.\\nCertifications Offered: They offer certification after completion.\\nLanguage Options: Content available in English.\\nInstructor Expertise: Taught by Dan Becker, an experienced instructor.\\nDuration of Courses: Approximately 3 hours (estimated).\\nCommunity and Support: Access to Kaggle’s community and discussions.\\nLearn Now',\n",
       " '7. Google AI\\nThe “Machine Learning & AI Courses” offered by Google Cloud Training provide a comprehensive learning experience for those interested in mastering machine learning and artificial intelligence technologies.\\nThese courses are designed to help learners implement the latest machine learning and AI technology, covering a range of tools and platforms like Vertex AI, BigQuery, TensorFlow, Cloud Vision, and Natural Language API. The training is suitable for various job roles, including Data Scientists, Machine Learning Engineers, and Contact Center Engineers.\\nThe courses cover foundational data, ML, and AI tasks in Google Cloud, machine learning on Google Cloud, advanced machine learning with TensorFlow, MLOps fundamentals, ML pipelines, and more.',\n",
       " 'Course Diversity: Covers a wide range of ML and AI topics, including TensorFlow, Vertex AI, and BigQuery.\\nLearning Style: Interactive labs and hands-on learning experiences.\\nPricing Structure: Varies depending on the course or learning path chosen.\\nPlatform Usability: User-friendly and designed for professionals and learners at various levels.\\nCertifications Offered: Opportunities for professional certification in machine learning and AI.\\nLanguage Options: Courses primarily in English, with some offering multiple language options.\\nInstructor Expertise: Courses taught by Google experts and industry professionals.\\nDuration of Courses: Varies based on the course, with flexible learning options.\\nCommunity and Support: Access to a community of learners and Google Cloud support.\\nLearn Now',\n",
       " '8. Stanford University Online\\nThe “Machine Learning Specialization” course offered by Stanford Online on edX is a foundational program created in collaboration with DeepLearning.AI.\\nThe specialization provides a broad introduction to modern machine learning, including supervised learning (multiple linear regression, logistic regression, neural networks, decision trees), unsupervised learning (clustering, dimensionality reduction, recommender systems), and best practices for AI and machine learning innovation (evaluating and tuning models, data-centric performance improvement).',\n",
       " 'Course Diversity: Covers supervised and unsupervised learning, machine learning models, and AI best practices.\\nLearning Style: Online, self-paced learning with a focus on practical application.\\nPricing Structure: Free to view course materials, with a fee for certification.\\nPlatform Usability: User-friendly online platform with easy access to course modules.\\nCertifications Offered: Certificate available upon completion.\\nLanguage Options: Content available in English.\\nInstructor Expertise: Courses developed by Stanford University and DeepLearning.AI.\\nDuration of Courses: Self-paced learning experience.\\nCommunity and Support: Access to course forums and support resources.\\nLearn Now',\n",
       " '9. MIT OpenCourseWare\\nThe “Mathematics of Big Data and Machine Learning” course, offered by MIT OpenCourseWare, provides an in-depth exploration of artificial intelligence and machine learning.\\nTaught by Dr. Jeremy Kepner and Dr. Vijay Gadepally, this course was conducted during the January IAP 2020 and is categorized under Supplemental Resources at the undergraduate level.\\nThe course content includes a comprehensive overview of AI and a deep dive into machine learning, encompassing supervised learning, unsupervised learning, and reinforcement learning. This lecture series is designed to offer insights into the mathematical foundations and practical applications of big data and machine learning.',\n",
       " 'Course Diversity: Covers AI, supervised learning, unsupervised learning, and reinforcement learning.\\nLearning Style: Lecture-based with in-depth theoretical and practical insights.\\nPricing Structure: Free access to course materials.\\nPlatform Usability: Well-organized content for easy learning.\\nCertifications Offered: Does not offer certifications.\\nLanguage Options: Content available in English.\\nInstructor Expertise: Taught by Dr. Jeremy Kepner and Dr. Vijay Gadepally.\\nDuration of Courses: Conducted during January IAP 2020.\\nCommunity and Support: Does not specify community or support options.\\nLearn Now',\n",
       " '10. DeepLearning.AI\\n“AI for Everyone” by DeepLearning.AI is a non-technical course aimed at providing a broad understanding of artificial intelligence (AI) to a wide audience, including non-engineers.\\nThe course, taught by AI pioneer Andrew Ng, focuses on demystifying AI and explaining key concepts such as machine learning, deep learning, and neural networks. It also addresses the impact of AI on society and navigates through technological changes.\\nThe course covers the workflow of machine learning and data science projects, AI terminology, and AI strategy. It includes case studies and practical advice for building a sustainable AI strategy, making it suitable for non-technical business professionals, machine learning engineers, and data scientists.',\n",
       " 'Course Diversity: Covers AI basics, machine learning, deep learning, and AI strategy.\\nLearning Style: Non-technical, with a focus on understanding AI’s impact and applications.\\nPricing Structure: Accessible through a subscription or individual course purchase.\\nPlatform Usability: User-friendly online learning platform.\\nCertifications Offered: Certificate of completion available.\\nLanguage Options: Content available in English.\\nInstructor Expertise: Taught by Andrew Ng, a renowned expert in AI.\\nDuration of Courses: Approximately 6 hours of content.\\nCommunity and Support: Access to a community of learners and professionals.\\nLearn Now\\n\\nFrequently Asked Questions\\n1. What are the best websites for learning AI and Machine learning?\\nThe best websites for learning AI and Machine learning are:\\n\\nGUVI\\nCoursera\\nedX\\nUdacity\\nFast.ai\\nKaggle Learn\\nGoogle AI',\n",
       " '2. What are some free AI and Machine learning learning websites along with certifications?\\nedX, Fast.ai, Kaggle Learn, Stanford University Online, and MIT OpenCourseWare are some free AI and Machine learning learning websites along with certifications.\\n3. Why should I choose website for learning AI and Machine Learning?\\nYou should choose a website for learning AI and Machine Learning because they offer flexibility and have a variety of learning resources. They cater to different learning styles with interactive tutorials, video lectures, and hands-on exercises.\\n4. How do I choose the right website for learning AI and Machine Learning?\\nYou can choose the right website for learning AI and Machine Learning by considering factors like course content quality, learning style compatibility (videos, interactive exercises), instructor expertise, community support, and pricing.\\n5. Can a beginner learn AI and Machine Learning effectively through websites?',\n",
       " '5. Can a beginner learn AI and Machine Learning effectively through websites?\\nYes, beginners can effectively learn AI and Machine Learning through websites. Many platforms offer beginner-friendly courses that start with basics and gradually progress to more complex topics.\\n6. Are there websites that offer content in multiple languages for learning AI and Machine Learning?\\nYes, websites like GUVI, Coursera, edX, and Udacity provide AI and Machine Learning learning content in multiple languages and subtitles.\\nFinal Words\\nThese sites are like your friendly neighborhood tech gurus, making learning AI and machine learning fun. They’re perfect for getting a solid start in these exciting fields without having to spend almost nothing.\\nKeep checking this article as we will keep updating this space as more websites make space in the heart and study schedule of students preparing for placements and competitive exams.',\n",
       " 'Explore More AI & ML Resources\\n\\nAI and Machine Learning YouTube Channels\\nAI Project Ideas\\nMachine Learning Project Ideas\\nAI Programming Languages\\nMachine Learning Programming Languages\\nMachine Learning Frameworks\\n\\nExplore More Websites\\n\\nPython\\nJava\\nCoding\\nC++\\nC Programming\\nSQL\\nJavaScript\\nData Science\\nHTML & CSS\\nWeb Development\\nData Structures and Algorithms\\nEthical Hacking\\nAndroid Development\\nReact JS\\nGame Development\\nCompetitive Programming\\nDigital Marketing\\nTableau\\nDBMS\\nR Programming\\nPHP\\nCyber Security\\nExcel\\nNode JS\\nData Analytics\\nBootstrap\\nCloud Computing\\nOperating System\\nAngular\\nRPA']"
      ]
     },
     "execution_count": 11,
     "metadata": {},
     "output_type": "execute_result"
    }
   ],
   "source": [
    "texts"
   ]
  },
  {
   "cell_type": "code",
   "execution_count": 12,
   "metadata": {},
   "outputs": [],
   "source": [
    "retriever = vectorstore.as_retriever()"
   ]
  },
  {
   "cell_type": "code",
   "execution_count": 13,
   "metadata": {},
   "outputs": [
    {
     "ename": "ResponseError",
     "evalue": "invalid input type",
     "output_type": "error",
     "traceback": [
      "\u001b[1;31m---------------------------------------------------------------------------\u001b[0m",
      "\u001b[1;31mResponseError\u001b[0m                             Traceback (most recent call last)",
      "Cell \u001b[1;32mIn[13], line 1\u001b[0m\n\u001b[1;32m----> 1\u001b[0m retrieved_documents \u001b[38;5;241m=\u001b[39m \u001b[43mretriever\u001b[49m\u001b[38;5;241;43m.\u001b[39;49m\u001b[43minvoke\u001b[49m\u001b[43m(\u001b[49m\u001b[43m{\u001b[49m\u001b[38;5;124;43m'\u001b[39;49m\u001b[38;5;124;43mquestion\u001b[39;49m\u001b[38;5;124;43m'\u001b[39;49m\u001b[43m:\u001b[49m\u001b[43minput_text\u001b[49m\u001b[43m}\u001b[49m\u001b[43m)\u001b[49m\n\u001b[0;32m      3\u001b[0m \u001b[38;5;66;03m# show the retrieved document's content\u001b[39;00m\n\u001b[0;32m      4\u001b[0m retrieved_documents[\u001b[38;5;241m0\u001b[39m]\u001b[38;5;241m.\u001b[39mpage_content\n",
      "File \u001b[1;32mc:\\Users\\chand\\Desktop\\Data Analytics\\.conda\\Lib\\site-packages\\langchain_core\\retrievers.py:254\u001b[0m, in \u001b[0;36mBaseRetriever.invoke\u001b[1;34m(self, input, config, **kwargs)\u001b[0m\n\u001b[0;32m    252\u001b[0m \u001b[38;5;28;01mexcept\u001b[39;00m \u001b[38;5;167;01mException\u001b[39;00m \u001b[38;5;28;01mas\u001b[39;00m e:\n\u001b[0;32m    253\u001b[0m     run_manager\u001b[38;5;241m.\u001b[39mon_retriever_error(e)\n\u001b[1;32m--> 254\u001b[0m     \u001b[38;5;28;01mraise\u001b[39;00m e\n\u001b[0;32m    255\u001b[0m \u001b[38;5;28;01melse\u001b[39;00m:\n\u001b[0;32m    256\u001b[0m     run_manager\u001b[38;5;241m.\u001b[39mon_retriever_end(\n\u001b[0;32m    257\u001b[0m         result,\n\u001b[0;32m    258\u001b[0m     )\n",
      "File \u001b[1;32mc:\\Users\\chand\\Desktop\\Data Analytics\\.conda\\Lib\\site-packages\\langchain_core\\retrievers.py:247\u001b[0m, in \u001b[0;36mBaseRetriever.invoke\u001b[1;34m(self, input, config, **kwargs)\u001b[0m\n\u001b[0;32m    245\u001b[0m _kwargs \u001b[38;5;241m=\u001b[39m kwargs \u001b[38;5;28;01mif\u001b[39;00m \u001b[38;5;28mself\u001b[39m\u001b[38;5;241m.\u001b[39m_expects_other_args \u001b[38;5;28;01melse\u001b[39;00m {}\n\u001b[0;32m    246\u001b[0m \u001b[38;5;28;01mif\u001b[39;00m \u001b[38;5;28mself\u001b[39m\u001b[38;5;241m.\u001b[39m_new_arg_supported:\n\u001b[1;32m--> 247\u001b[0m     result \u001b[38;5;241m=\u001b[39m \u001b[38;5;28;43mself\u001b[39;49m\u001b[38;5;241;43m.\u001b[39;49m\u001b[43m_get_relevant_documents\u001b[49m\u001b[43m(\u001b[49m\n\u001b[0;32m    248\u001b[0m \u001b[43m        \u001b[49m\u001b[38;5;28;43minput\u001b[39;49m\u001b[43m,\u001b[49m\u001b[43m \u001b[49m\u001b[43mrun_manager\u001b[49m\u001b[38;5;241;43m=\u001b[39;49m\u001b[43mrun_manager\u001b[49m\u001b[43m,\u001b[49m\u001b[43m \u001b[49m\u001b[38;5;241;43m*\u001b[39;49m\u001b[38;5;241;43m*\u001b[39;49m\u001b[43m_kwargs\u001b[49m\n\u001b[0;32m    249\u001b[0m \u001b[43m    \u001b[49m\u001b[43m)\u001b[49m\n\u001b[0;32m    250\u001b[0m \u001b[38;5;28;01melse\u001b[39;00m:\n\u001b[0;32m    251\u001b[0m     result \u001b[38;5;241m=\u001b[39m \u001b[38;5;28mself\u001b[39m\u001b[38;5;241m.\u001b[39m_get_relevant_documents(\u001b[38;5;28minput\u001b[39m, \u001b[38;5;241m*\u001b[39m\u001b[38;5;241m*\u001b[39m_kwargs)\n",
      "File \u001b[1;32mc:\\Users\\chand\\Desktop\\Data Analytics\\.conda\\Lib\\site-packages\\langchain_core\\vectorstores\\base.py:1039\u001b[0m, in \u001b[0;36mVectorStoreRetriever._get_relevant_documents\u001b[1;34m(self, query, run_manager)\u001b[0m\n\u001b[0;32m   1035\u001b[0m \u001b[38;5;28;01mdef\u001b[39;00m \u001b[38;5;21m_get_relevant_documents\u001b[39m(\n\u001b[0;32m   1036\u001b[0m     \u001b[38;5;28mself\u001b[39m, query: \u001b[38;5;28mstr\u001b[39m, \u001b[38;5;241m*\u001b[39m, run_manager: CallbackManagerForRetrieverRun\n\u001b[0;32m   1037\u001b[0m ) \u001b[38;5;241m-\u001b[39m\u001b[38;5;241m>\u001b[39m \u001b[38;5;28mlist\u001b[39m[Document]:\n\u001b[0;32m   1038\u001b[0m     \u001b[38;5;28;01mif\u001b[39;00m \u001b[38;5;28mself\u001b[39m\u001b[38;5;241m.\u001b[39msearch_type \u001b[38;5;241m==\u001b[39m \u001b[38;5;124m\"\u001b[39m\u001b[38;5;124msimilarity\u001b[39m\u001b[38;5;124m\"\u001b[39m:\n\u001b[1;32m-> 1039\u001b[0m         docs \u001b[38;5;241m=\u001b[39m \u001b[38;5;28;43mself\u001b[39;49m\u001b[38;5;241;43m.\u001b[39;49m\u001b[43mvectorstore\u001b[49m\u001b[38;5;241;43m.\u001b[39;49m\u001b[43msimilarity_search\u001b[49m\u001b[43m(\u001b[49m\u001b[43mquery\u001b[49m\u001b[43m,\u001b[49m\u001b[43m \u001b[49m\u001b[38;5;241;43m*\u001b[39;49m\u001b[38;5;241;43m*\u001b[39;49m\u001b[38;5;28;43mself\u001b[39;49m\u001b[38;5;241;43m.\u001b[39;49m\u001b[43msearch_kwargs\u001b[49m\u001b[43m)\u001b[49m\n\u001b[0;32m   1040\u001b[0m     \u001b[38;5;28;01melif\u001b[39;00m \u001b[38;5;28mself\u001b[39m\u001b[38;5;241m.\u001b[39msearch_type \u001b[38;5;241m==\u001b[39m \u001b[38;5;124m\"\u001b[39m\u001b[38;5;124msimilarity_score_threshold\u001b[39m\u001b[38;5;124m\"\u001b[39m:\n\u001b[0;32m   1041\u001b[0m         docs_and_similarities \u001b[38;5;241m=\u001b[39m (\n\u001b[0;32m   1042\u001b[0m             \u001b[38;5;28mself\u001b[39m\u001b[38;5;241m.\u001b[39mvectorstore\u001b[38;5;241m.\u001b[39msimilarity_search_with_relevance_scores(\n\u001b[0;32m   1043\u001b[0m                 query, \u001b[38;5;241m*\u001b[39m\u001b[38;5;241m*\u001b[39m\u001b[38;5;28mself\u001b[39m\u001b[38;5;241m.\u001b[39msearch_kwargs\n\u001b[0;32m   1044\u001b[0m             )\n\u001b[0;32m   1045\u001b[0m         )\n",
      "File \u001b[1;32mc:\\Users\\chand\\Desktop\\Data Analytics\\.conda\\Lib\\site-packages\\langchain_core\\vectorstores\\in_memory.py:408\u001b[0m, in \u001b[0;36mInMemoryVectorStore.similarity_search\u001b[1;34m(self, query, k, **kwargs)\u001b[0m\n\u001b[0;32m    405\u001b[0m \u001b[38;5;28;01mdef\u001b[39;00m \u001b[38;5;21msimilarity_search\u001b[39m(\n\u001b[0;32m    406\u001b[0m     \u001b[38;5;28mself\u001b[39m, query: \u001b[38;5;28mstr\u001b[39m, k: \u001b[38;5;28mint\u001b[39m \u001b[38;5;241m=\u001b[39m \u001b[38;5;241m4\u001b[39m, \u001b[38;5;241m*\u001b[39m\u001b[38;5;241m*\u001b[39mkwargs: Any\n\u001b[0;32m    407\u001b[0m ) \u001b[38;5;241m-\u001b[39m\u001b[38;5;241m>\u001b[39m \u001b[38;5;28mlist\u001b[39m[Document]:\n\u001b[1;32m--> 408\u001b[0m     \u001b[38;5;28;01mreturn\u001b[39;00m [doc \u001b[38;5;28;01mfor\u001b[39;00m doc, _ \u001b[38;5;129;01min\u001b[39;00m \u001b[38;5;28;43mself\u001b[39;49m\u001b[38;5;241;43m.\u001b[39;49m\u001b[43msimilarity_search_with_score\u001b[49m\u001b[43m(\u001b[49m\u001b[43mquery\u001b[49m\u001b[43m,\u001b[49m\u001b[43m \u001b[49m\u001b[43mk\u001b[49m\u001b[43m,\u001b[49m\u001b[43m \u001b[49m\u001b[38;5;241;43m*\u001b[39;49m\u001b[38;5;241;43m*\u001b[39;49m\u001b[43mkwargs\u001b[49m\u001b[43m)\u001b[49m]\n",
      "File \u001b[1;32mc:\\Users\\chand\\Desktop\\Data Analytics\\.conda\\Lib\\site-packages\\langchain_core\\vectorstores\\in_memory.py:368\u001b[0m, in \u001b[0;36mInMemoryVectorStore.similarity_search_with_score\u001b[1;34m(self, query, k, **kwargs)\u001b[0m\n\u001b[0;32m    362\u001b[0m \u001b[38;5;28;01mdef\u001b[39;00m \u001b[38;5;21msimilarity_search_with_score\u001b[39m(\n\u001b[0;32m    363\u001b[0m     \u001b[38;5;28mself\u001b[39m,\n\u001b[0;32m    364\u001b[0m     query: \u001b[38;5;28mstr\u001b[39m,\n\u001b[0;32m    365\u001b[0m     k: \u001b[38;5;28mint\u001b[39m \u001b[38;5;241m=\u001b[39m \u001b[38;5;241m4\u001b[39m,\n\u001b[0;32m    366\u001b[0m     \u001b[38;5;241m*\u001b[39m\u001b[38;5;241m*\u001b[39mkwargs: Any,\n\u001b[0;32m    367\u001b[0m ) \u001b[38;5;241m-\u001b[39m\u001b[38;5;241m>\u001b[39m \u001b[38;5;28mlist\u001b[39m[\u001b[38;5;28mtuple\u001b[39m[Document, \u001b[38;5;28mfloat\u001b[39m]]:\n\u001b[1;32m--> 368\u001b[0m     embedding \u001b[38;5;241m=\u001b[39m \u001b[38;5;28;43mself\u001b[39;49m\u001b[38;5;241;43m.\u001b[39;49m\u001b[43membedding\u001b[49m\u001b[38;5;241;43m.\u001b[39;49m\u001b[43membed_query\u001b[49m\u001b[43m(\u001b[49m\u001b[43mquery\u001b[49m\u001b[43m)\u001b[49m\n\u001b[0;32m    369\u001b[0m     docs \u001b[38;5;241m=\u001b[39m \u001b[38;5;28mself\u001b[39m\u001b[38;5;241m.\u001b[39msimilarity_search_with_score_by_vector(\n\u001b[0;32m    370\u001b[0m         embedding,\n\u001b[0;32m    371\u001b[0m         k,\n\u001b[0;32m    372\u001b[0m         \u001b[38;5;241m*\u001b[39m\u001b[38;5;241m*\u001b[39mkwargs,\n\u001b[0;32m    373\u001b[0m     )\n\u001b[0;32m    374\u001b[0m     \u001b[38;5;28;01mreturn\u001b[39;00m docs\n",
      "File \u001b[1;32mc:\\Users\\chand\\Desktop\\Data Analytics\\.conda\\Lib\\site-packages\\langchain_ollama\\embeddings.py:164\u001b[0m, in \u001b[0;36mOllamaEmbeddings.embed_query\u001b[1;34m(self, text)\u001b[0m\n\u001b[0;32m    162\u001b[0m \u001b[38;5;28;01mdef\u001b[39;00m \u001b[38;5;21membed_query\u001b[39m(\u001b[38;5;28mself\u001b[39m, text: \u001b[38;5;28mstr\u001b[39m) \u001b[38;5;241m-\u001b[39m\u001b[38;5;241m>\u001b[39m List[\u001b[38;5;28mfloat\u001b[39m]:\n\u001b[0;32m    163\u001b[0m \u001b[38;5;250m    \u001b[39m\u001b[38;5;124;03m\"\"\"Embed query text.\"\"\"\u001b[39;00m\n\u001b[1;32m--> 164\u001b[0m     \u001b[38;5;28;01mreturn\u001b[39;00m \u001b[38;5;28;43mself\u001b[39;49m\u001b[38;5;241;43m.\u001b[39;49m\u001b[43membed_documents\u001b[49m\u001b[43m(\u001b[49m\u001b[43m[\u001b[49m\u001b[43mtext\u001b[49m\u001b[43m]\u001b[49m\u001b[43m)\u001b[49m[\u001b[38;5;241m0\u001b[39m]\n",
      "File \u001b[1;32mc:\\Users\\chand\\Desktop\\Data Analytics\\.conda\\Lib\\site-packages\\langchain_ollama\\embeddings.py:159\u001b[0m, in \u001b[0;36mOllamaEmbeddings.embed_documents\u001b[1;34m(self, texts)\u001b[0m\n\u001b[0;32m    157\u001b[0m \u001b[38;5;28;01mdef\u001b[39;00m \u001b[38;5;21membed_documents\u001b[39m(\u001b[38;5;28mself\u001b[39m, texts: List[\u001b[38;5;28mstr\u001b[39m]) \u001b[38;5;241m-\u001b[39m\u001b[38;5;241m>\u001b[39m List[List[\u001b[38;5;28mfloat\u001b[39m]]:\n\u001b[0;32m    158\u001b[0m \u001b[38;5;250m    \u001b[39m\u001b[38;5;124;03m\"\"\"Embed search docs.\"\"\"\u001b[39;00m\n\u001b[1;32m--> 159\u001b[0m     embedded_docs \u001b[38;5;241m=\u001b[39m \u001b[38;5;28;43mself\u001b[39;49m\u001b[38;5;241;43m.\u001b[39;49m\u001b[43m_client\u001b[49m\u001b[38;5;241;43m.\u001b[39;49m\u001b[43membed\u001b[49m\u001b[43m(\u001b[49m\u001b[38;5;28;43mself\u001b[39;49m\u001b[38;5;241;43m.\u001b[39;49m\u001b[43mmodel\u001b[49m\u001b[43m,\u001b[49m\u001b[43m \u001b[49m\u001b[43mtexts\u001b[49m\u001b[43m)\u001b[49m[\u001b[38;5;124m\"\u001b[39m\u001b[38;5;124membeddings\u001b[39m\u001b[38;5;124m\"\u001b[39m]\n\u001b[0;32m    160\u001b[0m     \u001b[38;5;28;01mreturn\u001b[39;00m embedded_docs\n",
      "File \u001b[1;32mc:\\Users\\chand\\Desktop\\Data Analytics\\.conda\\Lib\\site-packages\\ollama\\_client.py:262\u001b[0m, in \u001b[0;36mClient.embed\u001b[1;34m(self, model, input, truncate, options, keep_alive)\u001b[0m\n\u001b[0;32m    259\u001b[0m \u001b[38;5;28;01mif\u001b[39;00m \u001b[38;5;129;01mnot\u001b[39;00m model:\n\u001b[0;32m    260\u001b[0m   \u001b[38;5;28;01mraise\u001b[39;00m RequestError(\u001b[38;5;124m'\u001b[39m\u001b[38;5;124mmust provide a model\u001b[39m\u001b[38;5;124m'\u001b[39m)\n\u001b[1;32m--> 262\u001b[0m \u001b[38;5;28;01mreturn\u001b[39;00m \u001b[38;5;28;43mself\u001b[39;49m\u001b[38;5;241;43m.\u001b[39;49m\u001b[43m_request\u001b[49m\u001b[43m(\u001b[49m\n\u001b[0;32m    263\u001b[0m \u001b[43m  \u001b[49m\u001b[38;5;124;43m'\u001b[39;49m\u001b[38;5;124;43mPOST\u001b[39;49m\u001b[38;5;124;43m'\u001b[39;49m\u001b[43m,\u001b[49m\n\u001b[0;32m    264\u001b[0m \u001b[43m  \u001b[49m\u001b[38;5;124;43m'\u001b[39;49m\u001b[38;5;124;43m/api/embed\u001b[39;49m\u001b[38;5;124;43m'\u001b[39;49m\u001b[43m,\u001b[49m\n\u001b[0;32m    265\u001b[0m \u001b[43m  \u001b[49m\u001b[43mjson\u001b[49m\u001b[38;5;241;43m=\u001b[39;49m\u001b[43m{\u001b[49m\n\u001b[0;32m    266\u001b[0m \u001b[43m    \u001b[49m\u001b[38;5;124;43m'\u001b[39;49m\u001b[38;5;124;43mmodel\u001b[39;49m\u001b[38;5;124;43m'\u001b[39;49m\u001b[43m:\u001b[49m\u001b[43m \u001b[49m\u001b[43mmodel\u001b[49m\u001b[43m,\u001b[49m\n\u001b[0;32m    267\u001b[0m \u001b[43m    \u001b[49m\u001b[38;5;124;43m'\u001b[39;49m\u001b[38;5;124;43minput\u001b[39;49m\u001b[38;5;124;43m'\u001b[39;49m\u001b[43m:\u001b[49m\u001b[43m \u001b[49m\u001b[38;5;28;43minput\u001b[39;49m\u001b[43m,\u001b[49m\n\u001b[0;32m    268\u001b[0m \u001b[43m    \u001b[49m\u001b[38;5;124;43m'\u001b[39;49m\u001b[38;5;124;43mtruncate\u001b[39;49m\u001b[38;5;124;43m'\u001b[39;49m\u001b[43m:\u001b[49m\u001b[43m \u001b[49m\u001b[43mtruncate\u001b[49m\u001b[43m,\u001b[49m\n\u001b[0;32m    269\u001b[0m \u001b[43m    \u001b[49m\u001b[38;5;124;43m'\u001b[39;49m\u001b[38;5;124;43moptions\u001b[39;49m\u001b[38;5;124;43m'\u001b[39;49m\u001b[43m:\u001b[49m\u001b[43m \u001b[49m\u001b[43moptions\u001b[49m\u001b[43m \u001b[49m\u001b[38;5;129;43;01mor\u001b[39;49;00m\u001b[43m \u001b[49m\u001b[43m{\u001b[49m\u001b[43m}\u001b[49m\u001b[43m,\u001b[49m\n\u001b[0;32m    270\u001b[0m \u001b[43m    \u001b[49m\u001b[38;5;124;43m'\u001b[39;49m\u001b[38;5;124;43mkeep_alive\u001b[39;49m\u001b[38;5;124;43m'\u001b[39;49m\u001b[43m:\u001b[49m\u001b[43m \u001b[49m\u001b[43mkeep_alive\u001b[49m\u001b[43m,\u001b[49m\n\u001b[0;32m    271\u001b[0m \u001b[43m  \u001b[49m\u001b[43m}\u001b[49m\u001b[43m,\u001b[49m\n\u001b[0;32m    272\u001b[0m \u001b[43m\u001b[49m\u001b[43m)\u001b[49m\u001b[38;5;241m.\u001b[39mjson()\n",
      "File \u001b[1;32mc:\\Users\\chand\\Desktop\\Data Analytics\\.conda\\Lib\\site-packages\\ollama\\_client.py:75\u001b[0m, in \u001b[0;36mClient._request\u001b[1;34m(self, method, url, **kwargs)\u001b[0m\n\u001b[0;32m     73\u001b[0m   response\u001b[38;5;241m.\u001b[39mraise_for_status()\n\u001b[0;32m     74\u001b[0m \u001b[38;5;28;01mexcept\u001b[39;00m httpx\u001b[38;5;241m.\u001b[39mHTTPStatusError \u001b[38;5;28;01mas\u001b[39;00m e:\n\u001b[1;32m---> 75\u001b[0m   \u001b[38;5;28;01mraise\u001b[39;00m ResponseError(e\u001b[38;5;241m.\u001b[39mresponse\u001b[38;5;241m.\u001b[39mtext, e\u001b[38;5;241m.\u001b[39mresponse\u001b[38;5;241m.\u001b[39mstatus_code) \u001b[38;5;28;01mfrom\u001b[39;00m \u001b[38;5;28;01mNone\u001b[39;00m\n\u001b[0;32m     77\u001b[0m \u001b[38;5;28;01mreturn\u001b[39;00m response\n",
      "\u001b[1;31mResponseError\u001b[0m: invalid input type"
     ]
    }
   ],
   "source": [
    "retrieved_documents = retriever.invoke({'question':input_text})\n",
    "\n",
    "# show the retrieved document's content\n",
    "retrieved_documents[0].page_content"
   ]
  }
 ],
 "metadata": {
  "kernelspec": {
   "display_name": "Python 3",
   "language": "python",
   "name": "python3"
  },
  "language_info": {
   "codemirror_mode": {
    "name": "ipython",
    "version": 3
   },
   "file_extension": ".py",
   "mimetype": "text/x-python",
   "name": "python",
   "nbconvert_exporter": "python",
   "pygments_lexer": "ipython3",
   "version": "3.11.9"
  }
 },
 "nbformat": 4,
 "nbformat_minor": 2
}
